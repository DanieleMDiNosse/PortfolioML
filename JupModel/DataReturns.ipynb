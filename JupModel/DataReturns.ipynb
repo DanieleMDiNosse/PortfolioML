{
 "cells": [
  {
   "cell_type": "markdown",
   "id": "laden-holly",
   "metadata": {},
   "source": [
    "DATA RETURNS"
   ]
  },
  {
   "cell_type": "code",
   "execution_count": null,
   "id": "intense-court",
   "metadata": {},
   "outputs": [],
   "source": [
    "import pandas as pd\n",
    "import numpy as np\n",
    "import requests\n",
    "from bs4 import BeautifulSoup\n",
    "import pandas_datareader as web\n",
    "from tqdm import tqdm\n",
    "from statistics import median\n",
    "import logging"
   ]
  },
  {
   "cell_type": "code",
   "execution_count": null,
   "id": "studied-transaction",
   "metadata": {},
   "outputs": [],
   "source": [
    "def read_filepath(file_path):\n",
    "    \"\"\"\n",
    "    Read and compute basic informations about a data set in csv.\n",
    "\n",
    "    Parameters\n",
    "    ----------\n",
    "    file_path: str\n",
    "        Path to the csv file\n",
    "\n",
    "    Returns\n",
    "    -------\n",
    "    df: pandas dataframe\n",
    "        Pandas Dataframe of the read file\n",
    "    \"\"\"\n",
    "    name_file = file_path.split('/')[-1]\n",
    "    extention = name_file.split('.')[-1]\n",
    "\n",
    "    try:\n",
    "        if extention != 'csv':\n",
    "            raise NameError('The file is not a csv one')\n",
    "    except NameError as ne:\n",
    "        logging.error(ne)\n",
    "        exit()\n",
    "\n",
    "    df = pd.read_csv(file_path, encoding='latin-1')\n",
    "\n",
    "    logging.info('DATA INFO, attributes: %s', df.columns)\n",
    "    logging.info('DATA INFO, shape: %s', df.shape)\n",
    "\n",
    "    total_data = df.shape[0]*df.shape[1]\n",
    "    total_missing = pd.DataFrame.isnull(df).sum().sum()\n",
    "\n",
    "    logging.info(f'DATA QUALITY, missing values: {total_missing/total_data:.2%}')\n",
    "\n",
    "    return df"
   ]
  },
  {
   "cell_type": "code",
   "execution_count": null,
   "id": "senior-drinking",
   "metadata": {},
   "outputs": [],
   "source": [
    "def get_returns(dataframe, m, export_returns_csv, no_missing=True):\n",
    "    \"\"\"\n",
    "    Get the day-by-day returns value of a company. The dataframe has got companies as attributes\n",
    "    and days as rows, the values are close prices of each days\n",
    "\n",
    "    Parameters\n",
    "    ----------\n",
    "    dataframe: pandas dataframe\n",
    "        Input data frame\n",
    "\n",
    "    col: string\n",
    "        Name of company, for possible values check dataframe.columns\n",
    "\n",
    "    m: int\n",
    "        m-period return\n",
    "\n",
    "    export_csv: bool(optional)\n",
    "        Export dataframe in csv. default=False\n",
    "\n",
    "    no_missing: bool(optional)\n",
    "        drop companies with missing values. default=True\n",
    "\n",
    "    Returns\n",
    "    -------\n",
    "    df: pandas dataframe\n",
    "        Dataframe with m-returns\n",
    "    \"\"\"\n",
    "    try:\n",
    "        if m < 0: raise ValueError(\"Ops! Invalid input, you can't go backward in time. m must be positive.\")\n",
    "    except ValueError as ve:\n",
    "        print(ve)\n",
    "        exit()\n",
    "\n",
    "    df = pd.DataFrame()\n",
    "    for col in dataframe.columns[1:]:\n",
    "        today = dataframe[col]\n",
    "        tomorrow = today[m:]\n",
    "        df[col] = (np.array(tomorrow)/np.array(today)[:-m])-1\n",
    "\n",
    "    if no_missing: df = df.dropna(axis=1)\n",
    "\n",
    "    if export_returns_csv:\n",
    "        df.to_csv('ReturnsData.csv', index=False)\n",
    "\n",
    "    return df"
   ]
  },
  {
   "cell_type": "code",
   "execution_count": null,
   "id": "maritime-scholarship",
   "metadata": {},
   "outputs": [],
   "source": [
    "def binary_targets(dataframe, export_binary_csv):\n",
    "    \"\"\"\n",
    "    Returns binary value of returns for classification task, binary values are 0 and 1.\n",
    "    To define the two classes, we order all m-period returns of all stocks 's'\n",
    "    in period t + m in ascending order and cut them into two equally sized classes.\n",
    "    Class 0 is realized if the m-period return of stock is smaller than the cross-sectional median return\n",
    "    of all stocks in period t + 1 .\n",
    "    Similarly, class 1 is realized if the m-period return of 's' is larger than or equal to the cross-sectional\n",
    "    median.\n",
    "    For more details see: https://doi.org/10.1016/j.ejor.2017.11.054\n",
    "\n",
    "    Parameters\n",
    "    ----------\n",
    "    dataframe: pandas dataframe\n",
    "        Inpunt dataframe of returns\n",
    "\n",
    "    export_binary_csv: bool\n",
    "        Export dataframe in csv. default=False\n",
    "\n",
    "    Returns\n",
    "    -------\n",
    "    df: pandas dataframe\n",
    "        Output dataframe of binary returns\n",
    "    \"\"\"\n",
    "    df = dataframe\n",
    "    for time_idx in range(dataframe.shape[0]):\n",
    "        compare_list = list(dataframe.iloc[time_idx].values)\n",
    "        compare_list.sort()\n",
    "        compare_value = median(compare_list)\n",
    "\n",
    "        df.iloc[time_idx] = dataframe.iloc[time_idx].apply(lambda x:  0 if x<=compare_value else 1)\n",
    "\n",
    "    if export_binary_csv: df.to_csv('ReturnsBinary.csv')\n",
    "    return df"
   ]
  },
  {
   "cell_type": "code",
   "execution_count": null,
   "id": "fluid-coordination",
   "metadata": {},
   "outputs": [],
   "source": [
    "df = read_filepath(\"PriceData.csv\")"
   ]
  },
  {
   "cell_type": "code",
   "execution_count": null,
   "id": "fossil-plasma",
   "metadata": {},
   "outputs": [],
   "source": [
    "dataframe_ritorni = get_returns(df,1,False)"
   ]
  },
  {
   "cell_type": "code",
   "execution_count": null,
   "id": "fifty-gospel",
   "metadata": {},
   "outputs": [],
   "source": [
    "df_ritorni = get_returns(df,1,False)\n",
    "dataframe_binary = binary_targets(df_ritorni, False)"
   ]
  },
  {
   "cell_type": "code",
   "execution_count": null,
   "id": "cellular-attribute",
   "metadata": {},
   "outputs": [],
   "source": [
    "df.head()"
   ]
  },
  {
   "cell_type": "code",
   "execution_count": null,
   "id": "extensive-spanking",
   "metadata": {},
   "outputs": [],
   "source": [
    "dataframe_ritorni.head()"
   ]
  },
  {
   "cell_type": "code",
   "execution_count": null,
   "id": "appreciated-looking",
   "metadata": {},
   "outputs": [],
   "source": [
    "dataframe_binary.head()"
   ]
  },
  {
   "cell_type": "code",
   "execution_count": null,
   "id": "unsigned-split",
   "metadata": {},
   "outputs": [],
   "source": []
  }
 ],
 "metadata": {
  "kernelspec": {
   "display_name": "Python 3",
   "language": "python",
   "name": "python3"
  },
  "language_info": {
   "codemirror_mode": {
    "name": "ipython",
    "version": 3
   },
   "file_extension": ".py",
   "mimetype": "text/x-python",
   "name": "python",
   "nbconvert_exporter": "python",
   "pygments_lexer": "ipython3",
   "version": "3.8.5"
  }
 },
 "nbformat": 4,
 "nbformat_minor": 5
}
