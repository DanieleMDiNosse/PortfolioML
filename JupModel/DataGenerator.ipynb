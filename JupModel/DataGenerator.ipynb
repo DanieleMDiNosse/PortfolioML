{
 "cells": [
  {
   "cell_type": "markdown",
   "id": "willing-assistant",
   "metadata": {},
   "source": [
    "DATA GENERATOR"
   ]
  },
  {
   "cell_type": "code",
   "execution_count": null,
   "id": "substantial-panama",
   "metadata": {},
   "outputs": [],
   "source": [
    "\"\"\" Generate csv file \"\"\"\n",
    "import pandas as pd\n",
    "import numpy as np\n",
    "import requests\n",
    "from bs4 import BeautifulSoup\n",
    "import pandas_datareader as web\n",
    "from tqdm import tqdm"
   ]
  },
  {
   "cell_type": "code",
   "execution_count": null,
   "id": "ideal-petroleum",
   "metadata": {},
   "outputs": [],
   "source": [
    "def get_ticker():\n",
    "    \"\"\"\n",
    "    Get tickers of companies in S&P500 over all time from Wikipedia page\n",
    "    url = https://en.wikipedia.org/wiki/List_of_S%26P_500_companies#S&P_500_component_stocks\n",
    "\n",
    "    Return\n",
    "    ------\n",
    "    ticker: list\n",
    "        list of tickers\n",
    "    \"\"\"\n",
    "    website_url = requests.get('https://en.wikipedia.org/wiki/List_of_S%26P_500_companies#S&P_500_component_stocks').text\n",
    "    soup = BeautifulSoup(website_url,'lxml')\n",
    "\n",
    "    idd_list = ['constituents', 'changes']\n",
    "    df_list =list()\n",
    "    for idd in idd_list:\n",
    "        My_table = soup.find('table',{'class':'wikitable sortable', 'id':idd})\n",
    "        df = pd.read_html(str(My_table))\n",
    "        df = pd.DataFrame(df[0])\n",
    "        df_list.append(df)\n",
    "\n",
    "    df_list[1].columns = ['_'.join(col).strip() for col in df_list[1].columns.values]\n",
    "    df_list[1] = df_list[1].dropna()\n",
    "\n",
    "    constituents = list(df_list[0].Symbol)\n",
    "    added = list(df_list[1].Added_Ticker)\n",
    "    removed = list(df_list[1].Removed_Ticker)\n",
    "\n",
    "    ticker = list(set(constituents + added + removed))\n",
    "\n",
    "    return ticker"
   ]
  },
  {
   "cell_type": "code",
   "execution_count": null,
   "id": "aggressive-abuse",
   "metadata": {},
   "outputs": [],
   "source": [
    "def data_generator(start, end, data_source = 'yahoo', export_csv = True):\n",
    "    '''\n",
    "    Generate a pandas dataframe of historical close daily price.\n",
    "\n",
    "    Parameters\n",
    "    ----------\n",
    "    start: str\n",
    "        Start time. Its format must be yyyy-mm-dd\n",
    "\n",
    "    end: str\n",
    "        End time. Its format must be yyyy-mm-dd\n",
    "\n",
    "    data_source: str(optional)\n",
    "        The data source (\"iex\", \"fred\", \"ff\"). Default = 'yahoo'\n",
    "\n",
    "    export_csv: bool(optional)\n",
    "        Choose whether to export to csv. Default = True\n",
    "\n",
    "\n",
    "    Returns\n",
    "    -------\n",
    "    data: pandas dataframe\n",
    "        Pandas dataframe of historical close daily price\n",
    "    '''\n",
    "\n",
    "    tickers = get_ticker()\n",
    "    data_list = {}\n",
    "    for ticks in tqdm(tickers):\n",
    "        try:\n",
    "            data_list[ticks] = web.DataReader(ticks, data_source = data_source, start = start, end = end).Close\n",
    "            print(f'Downloading data of {ticks}')\n",
    "        except:\n",
    "            print(f\"There's no data for {ticks}\" )\n",
    "    data = pd.DataFrame(data_list)\n",
    "\n",
    "    if export_csv: \n",
    "        data.to_csv('PriceData.csv')\n",
    "        \n",
    "    print(\"finish\")\n",
    "\n",
    "    return data"
   ]
  },
  {
   "cell_type": "code",
   "execution_count": null,
   "id": "amazing-spirit",
   "metadata": {},
   "outputs": [],
   "source": [
    "data = data_generator(\"1995-01-01\", \"2020-01-01\")"
   ]
  },
  {
   "cell_type": "code",
   "execution_count": null,
   "id": "higher-spring",
   "metadata": {},
   "outputs": [],
   "source": []
  }
 ],
 "metadata": {
  "kernelspec": {
   "display_name": "Python 3",
   "language": "python",
   "name": "python3"
  },
  "language_info": {
   "codemirror_mode": {
    "name": "ipython",
    "version": 3
   },
   "file_extension": ".py",
   "mimetype": "text/x-python",
   "name": "python",
   "nbconvert_exporter": "python",
   "pygments_lexer": "ipython3",
   "version": "3.8.5"
  }
 },
 "nbformat": 4,
 "nbformat_minor": 5
}
